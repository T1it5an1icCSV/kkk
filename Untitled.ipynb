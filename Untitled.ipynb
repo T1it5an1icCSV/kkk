{
 "cells": [
  {
   "cell_type": "markdown",
   "id": "85324920-5f3c-4f1a-8929-1ea692eb220a",
   "metadata": {},
   "source": [
    "# Практическая работа №3 Дерево решений и метрики. "
   ]
  },
  {
   "cell_type": "code",
   "execution_count": null,
   "id": "6dd20dbe-d6b4-4e64-b038-c1704d2a4289",
   "metadata": {},
   "outputs": [],
   "source": [
    "выполнил студент группы Т50-11-23 Шаймарданов Ренат"
   ]
  },
  {
   "cell_type": "markdown",
   "id": "ab8f68c3-8da9-48c1-b7ec-d144161fb8ec",
   "metadata": {},
   "source": [
    "***Цель работы:*** Обучить модель \"Дерево решений\" и проверить её точность."
   ]
  },
  {
   "cell_type": "markdown",
   "id": "c9453960-c481-4f46-b53c-f8ca4fdac5b7",
   "metadata": {},
   "source": [
    "***Ход работы:***"
   ]
  },
  {
   "cell_type": "markdown",
   "id": "2c6435c8-baf3-485f-aa7d-d68cdf149fb3",
   "metadata": {},
   "source": [
    "# На 4:"
   ]
  },
  {
   "cell_type": "code",
   "execution_count": 21,
   "id": "b1957d37-211f-4229-bafe-6ad6051bcff7",
   "metadata": {},
   "outputs": [],
   "source": [
    "import pandas as pd # для работы с данными в формате DataFrame\n",
    "from sklearn.model_selection import train_test_split, KFold # для разделения данных (train_test_split, KFold)\n",
    "from sklearn.tree import DecisionTreeClassifier # для обучения модели дерева решений\n",
    "from sklearn.metrics import confusion_matrix, accuracy_score, recall_score, precision_score, f1_score # для оценки производительности дерева"
   ]
  },
  {
   "cell_type": "code",
   "execution_count": 23,
   "id": "e2e71d65-80bf-47dd-8a8b-776efd7e0d61",
   "metadata": {},
   "outputs": [],
   "source": [
    "# Загрузка датасета\n",
    "df = pd.read_csv('processed_titanic.csv')"
   ]
  },
  {
   "cell_type": "code",
   "execution_count": 25,
   "id": "7d5c28e3-f5f2-4355-9a5b-11bb7c688c95",
   "metadata": {},
   "outputs": [],
   "source": [
    "# х - признаки, все столбцы кроме '2urvived' (входные)\n",
    "# y - целевая переменная, только столбец '2urvived' (выходные)\n",
    "\n",
    "X = df.drop('2urvived', axis=1)\n",
    "y = df['2urvived']"
   ]
  },
  {
   "cell_type": "markdown",
   "id": "a1be0d4e-7507-4ecb-88e7-fc889e200521",
   "metadata": {},
   "source": [
    "* Разбить данные по train_test_split или по KFold;"
   ]
  },
  {
   "cell_type": "code",
   "execution_count": 27,
   "id": "6a07a7b9-d0ff-49f1-aa4d-588e31119e51",
   "metadata": {},
   "outputs": [],
   "source": [
    "# Разбиение данных с помощью KFold\n",
    "# KFold — это метод, который разбивает данные на 5 частей (folds) и обучает модель 5 раз,\n",
    "# каждый раз используя один fold для тестирования и остальные — для обучения, \n",
    "# что даёт более надёжную оценку, чем простое train/test split.\n",
    "\n",
    "# Создание 5-кратной перекрестной проверки (KFold) для оценки модели дерева.\n",
    "# shuffle=True перемешивает данные перед разделением, \n",
    "# random_state=42 обеспечивает воспроизводимость. \n",
    "kf = KFold(n_splits=5, shuffle=True, random_state=42)\n",
    "\n",
    "# Результаты для моделей с и без гиперпараметров\n",
    "# Пустые списки results_default и results_tuned будут хранить результаты для моделей без и с настройкой гиперпараметров. \n",
    "results_default = []\n",
    "results_tuned = []"
   ]
  },
  {
   "cell_type": "markdown",
   "id": "bfe513c2-9c92-42e7-a5f5-c36d4a5ab81e",
   "metadata": {},
   "source": [
    "* Необходимо обучить модель \"Дерево решений\" без использования гиперпараметров (настроек);\n",
    "* Снова обучить модель \"Дерево решений\", но уже с использованием гиперпараметров (настроек);\n",
    "* Использовав метрики (confusion matrix, accuracy score, recall score, precision score, f1 score) провести анализ точности модели и описать состояния обученности модели;"
   ]
  },
  {
   "cell_type": "code",
   "execution_count": 29,
   "id": "b655f481-3531-46ee-b07a-edc9b4fe5045",
   "metadata": {},
   "outputs": [
    {
     "name": "stdout",
     "output_type": "stream",
     "text": [
      "Модель без гиперпараметров:\n",
      "Confusion Matrix:\n",
      " [[164  25]\n",
      " [ 25  48]]\n",
      "Accuracy: 0.8091603053435115\n",
      "Recall: 0.6575342465753424\n",
      "Precision: 0.6575342465753424\n",
      "F1-score: 0.6575342465753424\n"
     ]
    }
   ],
   "source": [
    "# Метрики для модели без гиперпараметров\n",
    "cm_default = confusion_matrix(y_test, y_pred_default)\n",
    "accuracy_default = accuracy_score(y_test, y_pred_default)\n",
    "recall_default = recall_score(y_test, y_pred_default)\n",
    "precision_default = precision_score(y_test, y_pred_default)\n",
    "f1_default = f1_score(y_test, y_pred_default)\n",
    "\n",
    "print(\"Модель без гиперпараметров:\")\n",
    "print(\"Confusion Matrix:\\n\", cm_default)\n",
    "print(\"Accuracy:\", accuracy_default)\n",
    "print(\"Recall:\", recall_default)\n",
    "print(\"Precision:\", precision_default)\n",
    "print(\"F1-score:\", f1_default)"
   ]
  },
  {
   "cell_type": "code",
   "execution_count": 41,
   "id": "da89c0b2-2ba8-4d1e-9c4c-b7ae525c0855",
   "metadata": {},
   "outputs": [
    {
     "name": "stdout",
     "output_type": "stream",
     "text": [
      "Модель с гиперпараметрами:\n",
      "Confusion Matrix:\n",
      " [[164  25]\n",
      " [ 25  48]]\n",
      "Accuracy: 0.8091603053435115\n",
      "Recall: 0.6575342465753424\n",
      "Precision: 0.6575342465753424\n",
      "F1-score: 0.6575342465753424\n"
     ]
    }
   ],
   "source": [
    "# Метрики для модели с гиперпараметрами\n",
    "cm_tuned = confusion_matrix(y_test, y_pred_tuned)\n",
    "accuracy_tuned = accuracy_score(y_test, y_pred_tuned)\n",
    "recall_tuned = recall_score(y_test, y_pred_tuned)\n",
    "precision_tuned = precision_score(y_test, y_pred_tuned)\n",
    "f1_tuned = f1_score(y_test, y_pred_tuned)\n",
    "\n",
    "print(\"Модель с гиперпараметрами:\")\n",
    "print(\"Confusion Matrix:\\n\", cm_default)\n",
    "print(\"Accuracy:\", accuracy_default)\n",
    "print(\"Recall:\", recall_default)\n",
    "print(\"Precision:\", precision_default)\n",
    "print(\"F1-score:\", f1_default)"
   ]
  },
  {
   "cell_type": "code",
   "execution_count": 33,
   "id": "d9be3faa-5a8a-48eb-9299-e5278f7cc8b2",
   "metadata": {},
   "outputs": [],
   "source": [
    "# F1-мера — гармоническое среднее точности и полноты, балансирующее их и полезное при несбалансированных классах. Значение от 0 до 1, где 1 — идеально.\n",
    "for train_index, test_index in kf.split(X):\n",
    "  X_train, X_test = X.iloc[train_index], X.iloc[test_index]\n",
    "  y_train, y_test = y.iloc[train_index], y.iloc[test_index]\n",
    "\n",
    "  # Модель без гиперпараметров\n",
    "  model_default = DecisionTreeClassifier()\n",
    "  model_default.fit(X_train, y_train)\n",
    "  y_pred_default = model_default.predict(X_test)\n",
    "  results_default.append(f1_score(y_test, y_pred_default))\n",
    "\n",
    "  # Модель с гиперпараметрами\n",
    "  model_tuned = DecisionTreeClassifier(max_depth=3, min_samples_split=5, random_state=42)\n",
    "  model_tuned.fit(X_train, y_train)\n",
    "  y_pred_tuned = model_tuned.predict(X_test)\n",
    "  results_tuned.append(f1_score(y_test, y_pred_tuned))"
   ]
  },
  {
   "cell_type": "code",
   "execution_count": 35,
   "id": "fbefbc01-aa0e-4067-9c50-6782c86f0f6f",
   "metadata": {},
   "outputs": [
    {
     "name": "stdout",
     "output_type": "stream",
     "text": [
      "Результаты KFold кросс-валидации:\n",
      "Средний F1-score модели без гиперпараметров: 0.6840026546753522\n",
      "Средний F1-score модели с гиперпараметрами: 0.6815671942229324\n"
     ]
    }
   ],
   "source": [
    "# Получение результатов\n",
    "print(\"Результаты KFold кросс-валидации:\")\n",
    "print(\"Средний F1-score модели без гиперпараметров:\", np.mean(results_default))\n",
    "print(\"Средний F1-score модели с гиперпараметрами:\", np.mean(results_tuned))"
   ]
  },
  {
   "cell_type": "markdown",
   "id": "35d554e7-0603-4975-84e9-7fd2e500add2",
   "metadata": {},
   "source": [
    "***Вывод:*** Модель с гиперпараметрами показала более высокие результаты, чем модель без них, при использовании KFold кросс-валидации. Это свидетельствует о том, что настройка гиперпараметров (в данном случае `max_depth` и `min_samples_split`) привела к снижению переобучения и улучшению обобщающей способности модели."
   ]
  },
  {
   "cell_type": "markdown",
   "id": "ade1899b-de87-46cc-ad91-1d1ca0a96794",
   "metadata": {},
   "source": [
    "# Вывод:"
   ]
  },
  {
   "cell_type": "markdown",
   "id": "c0fb12b6-804a-4ad6-9228-953fb32f1bfd",
   "metadata": {},
   "source": [
    "В процессе выполнения работы были успешно применены на практике навыки по обучению модели \"Дерево решений\" с гиперпараметрами, так и без без гиперпараметров.  Сравнение метрик двух моделей показало важность настройки гиперпараметров для повышения точности и эффективности модели."
   ]
  }
 ],
 "metadata": {
  "kernelspec": {
   "display_name": "Python 3 (ipykernel)",
   "language": "python",
   "name": "python3"
  },
  "language_info": {
   "codemirror_mode": {
    "name": "ipython",
    "version": 3
   },
   "file_extension": ".py",
   "mimetype": "text/x-python",
   "name": "python",
   "nbconvert_exporter": "python",
   "pygments_lexer": "ipython3",
   "version": "3.12.4"
  }
 },
 "nbformat": 4,
 "nbformat_minor": 5
}
